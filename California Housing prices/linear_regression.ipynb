{
 "cells": [
  {
   "cell_type": "code",
   "execution_count": null,
   "metadata": {},
   "outputs": [
    {
     "ename": "",
     "evalue": "",
     "output_type": "error",
     "traceback": [
      "\u001b[1;31mFailed to start the Kernel. \n",
      "\u001b[1;31mUnable to start Kernel 'Python 3.8.2' due to a connection timeout. \n",
      "\u001b[1;31mView Jupyter <a href='command:jupyter.viewOutput'>log</a> for further details."
     ]
    }
   ],
   "source": [
    "import pandas as pd\n",
    "import seaborn as sns\n",
    "import matplotlib.pyplot as plt\n",
    "\n",
    "#Carga la base de datos\n",
    "df = pd.read_csv('housing.csv')\n",
    "\n",
    "#Calcula la matriz de correlacion\n",
    "corr_matrix = df.corr()\n",
    "\n",
    "#Crea una figura con eje con matplotlib\n",
    "fig, ax = plt.subplots(figsize=(10, 8))\n",
    "\n",
    "#Dibuja la matriz de correlacion con seaborn\n",
    "sns.heatmap(corr_matrix, annot=True, ax=ax)\n",
    "\n",
    "#Muestra el grafico\n",
    "plt.show()"
   ]
  },
  {
   "cell_type": "code",
   "execution_count": null,
   "metadata": {},
   "outputs": [],
   "source": [
    "import geopandas as gpd\n",
    "import pandas as pd\n",
    "from shapely.geometry import Point\n",
    "import matplotlib.pylot as plt\n",
    "\n",
    "datos = pd.read_csv('housing.csv')\n",
    "\n",
    "geometry =[Point(xy) for xy in zip(datos['longitude'],datos['latitude'])]\n",
    "\n",
    "gdf = gdp.GeoDataFrame(datos, geometry=geometry)\n",
    "\n",
    "\n",
    "ax = gdf.plot(figsize(10,10), column='median_house_value', legend=True, markersize=5, cmpap='coolwarm')\n",
    "\n",
    "ax.set_title('Mapa de precios medianos de viviendas')\n",
    "ax.set_xlabel('Longitud')\n",
    "ax.set_ylabel('Latitud')\n",
    "\n",
    "plt.show()\n"
   ]
  },
  {
   "cell_type": "code",
   "execution_count": null,
   "metadata": {},
   "outputs": [],
   "source": []
  },
  {
   "cell_type": "code",
   "execution_count": null,
   "metadata": {},
   "outputs": [],
   "source": []
  },
  {
   "cell_type": "code",
   "execution_count": null,
   "metadata": {},
   "outputs": [],
   "source": []
  },
  {
   "cell_type": "code",
   "execution_count": null,
   "metadata": {},
   "outputs": [],
   "source": []
  }
 ],
 "metadata": {
  "kernelspec": {
   "display_name": "Python 3 (ipykernel)",
   "language": "python",
   "name": "python3"
  },
  "language_info": {
   "codemirror_mode": {
    "name": "ipython",
    "version": 3
   },
   "file_extension": ".py",
   "mimetype": "text/x-python",
   "name": "python",
   "nbconvert_exporter": "python",
   "pygments_lexer": "ipython3",
   "version": "3.8.2"
  }
 },
 "nbformat": 4,
 "nbformat_minor": 2
}
