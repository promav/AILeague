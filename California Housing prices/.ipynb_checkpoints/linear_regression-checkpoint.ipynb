{
 "cells": [
  {
   "cell_type": "code",
   "execution_count": null,
   "metadata": {},
   "outputs": [],
   "source": [
    "import pandas as pd\n",
    "import seaborn as sns\n",
    "import matplotlib.pyplot as plt\n",
    "\n",
    "#Carga la base de datos\n",
    "df = pd.read_csv('housing.csv')\n",
    "\n",
    "#Calcula la matriz de correlacion\n",
    "corr_matrix = df.corr()\n",
    "\n",
    "#Crea una figura con eje con matplotlib\n",
    "fig, ax = plt.subplots(figsize=(10, 8))\n",
    "\n",
    "#Dibuja la matriz de correlacion con seaborn\n",
    "sns.heatmap(corr_matrix, annot=True, ax=ax)\n",
    "\n",
    "#Muestra el grafico\n",
    "plt.show()"
   ]
  },
  {
   "cell_type": "code",
   "execution_count": null,
   "metadata": {},
   "outputs": [],
   "source": []
  },
  {
   "cell_type": "code",
   "execution_count": null,
   "metadata": {},
   "outputs": [],
   "source": []
  }
 ],
 "metadata": {
  "kernelspec": {
   "display_name": "Python 3 (ipykernel)",
   "language": "python",
   "name": "python3"
  },
  "language_info": {
   "codemirror_mode": {
    "name": "ipython",
    "version": 3
   },
   "file_extension": ".py",
   "mimetype": "text/x-python",
   "name": "python",
   "nbconvert_exporter": "python",
   "pygments_lexer": "ipython3",
   "version": "3.7.4"
  }
 },
 "nbformat": 4,
 "nbformat_minor": 2
}
